{
 "cells": [
  {
   "cell_type": "markdown",
   "metadata": {},
   "source": [
    "<img style=\"float: left; margin: 30px 15px 15px 15px;\" src=\"https://upload.wikimedia.org/wikipedia/commons/d/db/Logo_ITESO_normal.jpg\" width=\"300\" height=\"500\" /> \n",
    "    \n",
    "    \n",
    "### Simulación de procesos financieros. \n",
    "\n",
    "**Nombres:** `[Héctor Josue Falomir Patrón, Jesús Guillermo Sainz Zárate]`\n",
    "\n",
    "**Fecha:** 29 de enero del 2024.\n",
    "\n",
    "**Expediente** : `[7530461, 7530501]`.\n",
    "**Profesor:** Oscar David Jaramillo Zuluaga.\n",
    "    \n",
    "**Link Github**: https://github.com/hectorfalomir/ProyectoConjunto_HJFalomir_JGSainz/tree/main\n",
    "\n",
    "# Tarea 1: Clase 2"
   ]
  },
  {
   "cell_type": "markdown",
   "metadata": {},
   "source": [
    "## Enunciado de tarea (Transcibirlo)\n",
    "> En este nuevo notebook el ESTUDIANTE 1 y ESTUDIANTE 2, deben realizar una presentación describiendo sus expectativas del curso y la transcipción de la Figura 1 y Figura 2 respectivamente, haciendo uso de la sintaxis Markdown"
   ]
  },
  {
   "cell_type": "markdown",
   "metadata": {},
   "source": [
    "### Ejercicio 1: \n",
    "\n",
    "Estudiante 1:\n",
    "\n",
    "<center>\n",
    "\n",
    "| $i$ | $x$ | $f(x)$ |\n",
    "| :---: | :---: | :---: |\n",
    "| $0$ | $-1$ | $0.3678$ |\n",
    "| $\\textcolor{red}{1}$ | $\\textcolor{red}{-0.5}$ | $\\textcolor{red}{0.7788}$ |\n",
    "| $\\textcolor{blue}{2}$ | $\\textcolor{blue}{0}$ | $\\textcolor{blue}{1}$ |\n",
    "| $\\textcolor{red}{3}$ | $\\textcolor{red}{0.5}$ | $\\textcolor{red}{0.7788}$ |\n",
    "| $4$ | $1$ | $0.3678$ |\n",
    "\n",
    "$$\\text{Cuadro 1: Tabla de Valores de }f(x)$$\n",
    "\n",
    "\n",
    "\n",
    "$$\n",
    "\\int_{-1}^{1}{e^{-x^{2}} dx \\approx \\frac{0.5}{3}[{f(-1)+f(1)+4(\\textcolor{red}{f(-0.5)+f(0.5)})+2\\textcolor{blue}{f(0)}}]}\n",
    "$$\n",
    "\n",
    "$$\n",
    "\\approx \\frac{0.5}{3} [0.3678+0.3678+4(\\textcolor{red}{0.7788+0.7788})+2\\cdot\\textcolor{blue}{1}]\\approx 1.4943\n",
    "$$\n",
    "\n",
    "<font style=\"font-family: 'Times New Roman', Times, serif;\">\n",
    "A modo de verificación, se calculará por software, el valor del área para n = 100, un valor mucho más elevado al que se utilizó anteriormente. Si lo calculado previamente es correcto, se esperaría que sea próximo al valor presentado a continuación para ser una buena aproximación."
   ]
  },
  {
   "cell_type": "markdown",
   "metadata": {},
   "source": [
    "### Ejercicio 1: \n",
    "\n",
    "Estudiante 2:\n",
    "\n",
    "| i           | 1 | 2 | 3 | 4 | 5 | 6 | 7 |\n",
    "|-------------|---|---|---|---|---|---|---|\n",
    "|$$E_i(V)$$     |12 |10 |24 |12 | - | - | - |\n",
    "|$$r_i(\\Omega)$$|0.1 |0.5 |0.2 |0.5 | - | - | - |\n",
    "|$$R_i(\\Omega)$$ |25 |40 |16 |20 | 9 | 4 | 20 |\n",
    "\n",
    "\n",
    "<font style=\"font-family: 'Times New Roman', Times, serif;\"> <span style='color:#20C4D6;'>\n",
    "&nbsp;&nbsp; Kemma y Vorst (1990)</span> muestras que las opciones asiaticas con media geometrica continua se pueden valuar con el mismo enfoque de las opciones plain vainilla; solo se deben cambiar los parametros de volatilidad $\\sigma$ por $\\sigma_a$ y el costo del acarreo $b$ por $b_A$. \n",
    "<br>\n",
    "De acuerdo con Kemma y Vort, las formulas para valuar una opcion de compra y una opcion de venta son:\n",
    "<br>\n",
    "<br>\n",
    "&nbsp;&nbsp;$c \\approx S_t e^{(b_A - r)(T-t)}\\Phi(d_1) - Ke^{-r(T-t)}\\Phi(d_2)$\n",
    "<br>\n",
    "&nbsp;&nbsp;$p \\approx Ke^{-r(T-t)}\\Phi(-d_2) - S_t^{(b_A - r)(T-t)}\\Phi(-d_1)$\n",
    "<br>\n",
    "<br>\n",
    "con $d_1$ y $d_2$ dados por:\n",
    "<br>\n",
    "<br>\n",
    "&nbsp;&nbsp;$d_1 = \\frac{ln(S_t/K) + (b_A + 1/2\\sigma^2_a)(T-t)}{\\sigma\\sqrt{T-t}}$\n",
    "<br>\n",
    "<br>\n",
    "&nbsp;&nbsp;$d_2 = d_1 - \\sigma_a \\sqrt{T-t}$\n",
    "<br>\n",
    "<br>\n",
    "La funcion $\\Phi(d)$ es la funcion de distribucion acumulada de $E \\sim  \\mathcal{N}(0,1)$. La volatilidad ajustada es igual a:\n",
    "<br>\n",
    "&nbsp;&nbsp; $\\sigma_a = \\frac{\\sigma}{\\sqrt{3}}$\n",
    "<br>\n",
    "mientras que el costo de acarreo ajustado es:\n",
    "<br>\n",
    "&nbsp;&nbsp; $b_A = \\frac{1}{2}(v - \\frac{\\sigma^2}{6})$"
   ]
  },
  {
   "cell_type": "markdown",
   "metadata": {},
   "source": [
    "Código de solución estudiante 1"
   ]
  },
  {
   "cell_type": "code",
   "execution_count": 1,
   "metadata": {},
   "outputs": [
    {
     "name": "stdout",
     "output_type": "stream",
     "text": [
      "[0, 1, 1, 2, 3, 5, 8, 13, 21, 34, 55, 89, 144, 233, 377, 610, 987, 1597, 2584, 4181, 6765, 10946, 17711, 28657, 46368, 75025, 121393, 196418, 317811, 514229, 832040, 1346269, 2178309, 3524578, 5702887, 9227465, 14930352, 24157817, 39088169, 63245986, 102334155, 165580141, 267914296, 433494437, 701408733, 1134903170, 1836311903, 2971215073, 4807526976, 7778742049, 12586269025, 20365011074, 32951280099, 53316291173, 86267571272, 139583862445, 225851433717, 365435296162, 591286729879, 956722026041, 1548008755920, 2504730781961, 4052739537881, 6557470319842, 10610209857723, 17167680177565, 27777890035288, 44945570212853, 72723460248141, 117669030460994, 190392490709135, 308061521170129, 498454011879264, 806515533049393, 1304969544928657, 2111485077978050, 3416454622906707, 5527939700884757, 8944394323791464, 14472334024676221, 23416728348467685, 37889062373143906, 61305790721611591, 99194853094755497, 160500643816367088, 259695496911122585, 420196140727489673, 679891637638612258, 1100087778366101931, 1779979416004714189, 2880067194370816120, 4660046610375530309, 7540113804746346429, 12200160415121876738, 19740274219868223167, 31940434634990099905, 51680708854858323072, 83621143489848422977, 135301852344706746049, 218922995834555169026]\n"
     ]
    }
   ],
   "source": [
    "# Código de solución estudiante 1\n",
    "def fibonacci(n):\n",
    "    fib = [0, 1]  \n",
    "    while len(fib) < n:\n",
    "        next_fib = fib[-1] + fib[-2]\n",
    "        fib.append(next_fib)\n",
    "    return fib\n",
    "\n",
    "# Imprimimos los primeros 100 términos de la serie de Fibonacci\n",
    "print(fibonacci(100))"
   ]
  },
  {
   "cell_type": "markdown",
   "metadata": {},
   "source": [
    "Código de solución estudiante 2"
   ]
  },
  {
   "cell_type": "code",
   "execution_count": 3,
   "metadata": {},
   "outputs": [
    {
     "data": {
      "text/plain": [
       "[2,\n",
       " 3,\n",
       " 5,\n",
       " 7,\n",
       " 11,\n",
       " 13,\n",
       " 17,\n",
       " 19,\n",
       " 23,\n",
       " 29,\n",
       " 31,\n",
       " 37,\n",
       " 41,\n",
       " 43,\n",
       " 47,\n",
       " 53,\n",
       " 59,\n",
       " 61,\n",
       " 67,\n",
       " 71,\n",
       " 73,\n",
       " 79,\n",
       " 83,\n",
       " 89,\n",
       " 97]"
      ]
     },
     "execution_count": 3,
     "metadata": {},
     "output_type": "execute_result"
    }
   ],
   "source": [
    "# Código de solución estudiante 2\n",
    "def numeros_primos(n):\n",
    "    if n < 2:\n",
    "        return False\n",
    "    for i in range(2, int(n**0.5) + 1):\n",
    "        if n % i ==0:\n",
    "            return False\n",
    "        \n",
    "    return True\n",
    "\n",
    "def gen_primos(n_max):\n",
    "    for n in range(0,n_max + 1):\n",
    "        if numeros_primos(n):\n",
    "            yield n\n",
    "        \n",
    "lista_n_primos = list(gen_primos(100))\n",
    "lista_n_primos"
   ]
  },
  {
   "cell_type": "markdown",
   "metadata": {},
   "source": [
    "### Respuesta planteada en el ejercicio usando (markdown)\n",
    "Estudiante 1:\n",
    "\n",
    " La respuesta es:\n",
    "\n",
    " [0, 1, 1, 2, 3, 5, 8, 13, 21, 34, 55, 89, 144, 233, 377, 610, 987, 1597, 2584, 4181, 6765, 10946, 17711, 28657, 46368, 75025, 121393, 196418, 317811, 514229, 832040, 1346269, 2178309, 3524578, 5702887, 9227465, 14930352, 24157817, 39088169, 63245986, 102334155, 165580141, 267914296, 433494437, 701408733, 1134903170, 1836311903, 2971215073, 4807526976, 7778742049, 12586269025, 20365011074, 32951280099, 53316291173, 86267571272, 139583862445, 225851433717, 365435296162, 591286729879, 956722026041, 1548008755920, 2504730781961, 4052739537881, 6557470319842, 10610209857723, 17167680177565, 27777890035288, 44945570212853, 72723460248141, 117669030460994, 190392490709135, 308061521170129, 498454011879264, 806515533049393, 1304969544928657, 2111485077978050, 3416454622906707, 5527939700884757, 8944394323791464, 14472334024676221, 23416728348467685, 37889062373143906, 61305790721611591, 99194853094755497, 160500643816367088, 259695496911122585, 420196140727489673, 679891637638612258, 1100087778366101931, 1779979416004714189, 2880067194370816120, 4660046610375530309, 7540113804746346429, 12200160415121876738, 19740274219868223167, 31940434634990099905, 51680708854858323072, 83621143489848422977, 135301852344706746049, 218922995834555169026]"
   ]
  },
  {
   "cell_type": "markdown",
   "metadata": {},
   "source": [
    "### Respuesta planteada en el ejercicio usando (markdown)\n",
    "Estudiante 2:\n",
    "\n",
    " La respuesta es:\n",
    "$$\\begin{equation}\n",
    "     \\begin{vmatrix}\n",
    "         2&3&5&7&11&13&17&19&23&29&31&37&41&43&47&53&59&61&67&71&73&79&83&89&97\n",
    "      \\end{vmatrix}\n",
    "   \\end{equation}\n",
    "$$"
   ]
  }
 ],
 "metadata": {
  "kernelspec": {
   "display_name": "Python 3 (ipykernel)",
   "language": "python",
   "name": "python3"
  },
  "language_info": {
   "codemirror_mode": {
    "name": "ipython",
    "version": 3
   },
   "file_extension": ".py",
   "mimetype": "text/x-python",
   "name": "python",
   "nbconvert_exporter": "python",
   "pygments_lexer": "ipython3",
   "version": "3.10.7"
  }
 },
 "nbformat": 4,
 "nbformat_minor": 2
}

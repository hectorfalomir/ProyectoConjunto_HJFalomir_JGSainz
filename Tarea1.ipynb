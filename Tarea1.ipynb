{
 "cells": [
  {
   "cell_type": "markdown",
   "metadata": {},
   "source": [
    "<img style=\"float: left; margin: 30px 15px 15px 15px;\" src=\"https://upload.wikimedia.org/wikipedia/commons/d/db/Logo_ITESO_normal.jpg\" width=\"300\" height=\"500\" /> \n",
    "    \n",
    "    \n",
    "### Simulación de procesos financieros. \n",
    "\n",
    "**Nombres:** `[Héctor Josue Falomir Patrón, Jesús Guillermo Sainz Zárate]`\n",
    "\n",
    "**Fecha:** 29 de enero del 2024.\n",
    "\n",
    "**Expediente** : `[7530461, 7530501]`.\n",
    "**Profesor:** Oscar David Jaramillo Zuluaga.\n",
    "    \n",
    "**Link Github**: https://github.com/hectorfalomir/ProyectoConjunto_HJFalomir_JGSainz/tree/main\n",
    "\n",
    "# Tarea 1: Clase 2"
   ]
  },
  {
   "cell_type": "markdown",
   "metadata": {},
   "source": [
    "## Enunciado de tarea (Transcibirlo)\n",
    "> En este nuevo notebook el ESTUDIANTE 1 y ESTUDIANTE 2, deben realizar una presentación describiendo sus expectativas del curso y la transcipción de la Figura 1 y Figura 2 respectivamente, haciendo uso de la sintaxis Markdown"
   ]
  },
  {
   "cell_type": "markdown",
   "metadata": {},
   "source": [
    "### Ejercicio 1: \n",
    "\n",
    "Estudiante 1:"
   ]
  },
  {
   "cell_type": "markdown",
   "metadata": {},
   "source": [
    "### Ejercicio 1: \n",
    "\n",
    "Estudiante 2:\n",
    "\n",
    "| i           | 1 | 2 | 3 | 4 | 5 | 6 | 7 |\n",
    "|-------------|---|---|---|---|---|---|---|\n",
    "|$$E_i(V)$$     |12 |10 |24 |12 | - | - | - |\n",
    "|$$r_i(\\Omega)$$|0.1 |0.5 |0.2 |0.5 | - | - | - |\n",
    "|$$R_i(\\Omega)$$ |25 |40 |16 |20 | 9 | 4 | 20 |\n",
    "\n",
    "\n",
    "<font style=\"font-family: 'Times New Roman', Times, serif;\"> <span style='color:#20C4D6;'>\n",
    "&nbsp;&nbsp; Kemma y Vorst (1990)</span> muestras que las opciones asiaticas con media geometrica continua se pueden valuar con el mismo enfoque de las opciones plain vainilla; solo se deben cambiar los parametros de volatilidad $\\sigma$ por $\\sigma_a$ y el costo del acarreo $b$ por $b_A$. \n",
    "<br>\n",
    "De acuerdo con Kemma y Vort, las formulas para valuar una opcion de compra y una opcion de venta son:\n",
    "<br>\n",
    "<br>\n",
    "&nbsp;&nbsp;$c \\approx S_t e^{(b_A - r)(T-t)}\\Phi(d_1) - Ke^{-r(T-t)}\\Phi(d_2)$\n",
    "<br>\n",
    "&nbsp;&nbsp;$p \\approx Ke^{-r(T-t)}\\Phi(-d_2) - S_t^{(b_A - r)(T-t)}\\Phi(-d_1)$\n",
    "<br>\n",
    "<br>\n",
    "con $d_1$ y $d_2$ dados por:\n",
    "<br>\n",
    "<br>\n",
    "&nbsp;&nbsp;$d_1 = \\frac{ln(S_t/K) + (b_A + 1/2\\sigma^2_a)(T-t)}{\\sigma\\sqrt{T-t}}$\n",
    "<br>\n",
    "<br>\n",
    "&nbsp;&nbsp;$d_2 = d_1 - \\sigma_a \\sqrt{T-t}$\n",
    "<br>\n",
    "<br>\n",
    "La funcion $\\Phi(d)$ es la funcion de distribucion acumulada de $E \\sim  \\mathcal{N}(0,1)$. La volatilidad ajustada es igual a:\n",
    "<br>\n",
    "&nbsp;&nbsp; $\\sigma_a = \\frac{\\sigma}{\\sqrt{3}}$\n",
    "<br>\n",
    "mientras que el costo de acarreo ajustado es:\n",
    "<br>\n",
    "&nbsp;&nbsp; $b_A = \\frac{1}{2}(v - \\frac{\\sigma^2}{6})$"
   ]
  },
  {
   "cell_type": "markdown",
   "metadata": {},
   "source": [
    "Código de solución estudiante 1"
   ]
  },
  {
   "cell_type": "code",
   "execution_count": null,
   "metadata": {},
   "outputs": [],
   "source": [
    "# Código de solución estudiante 1\n",
    ".\n",
    ".\n",
    ".\n",
    ".\n"
   ]
  },
  {
   "cell_type": "markdown",
   "metadata": {},
   "source": [
    "Código de solución estudiante 2"
   ]
  },
  {
   "cell_type": "code",
   "execution_count": null,
   "metadata": {},
   "outputs": [],
   "source": [
    "# Código de solución estudiante 2\n",
    "print('Hola estoy desde la rama ejerPrograma')\n",
    ".\n",
    ".\n",
    ".\n"
   ]
  },
  {
   "cell_type": "markdown",
   "metadata": {},
   "source": [
    "### Respuesta planteada en el ejercicio usando (markdown)\n",
    "Estudiante 1:\n",
    "\n",
    " La respuesta es ........."
   ]
  },
  {
   "cell_type": "markdown",
   "metadata": {},
   "source": [
    "### Respuesta planteada en el ejercicio usando (markdown)\n",
    "Estudiante 2:\n",
    "\n",
    " La respuesta es ........."
   ]
  }
 ],
 "metadata": {
  "kernelspec": {
   "display_name": "Python 3 (ipykernel)",
   "language": "python",
   "name": "python3"
  },
  "language_info": {
   "codemirror_mode": {
    "name": "ipython",
    "version": 3
   },
   "file_extension": ".py",
   "mimetype": "text/x-python",
   "name": "python",
   "nbconvert_exporter": "python",
   "pygments_lexer": "ipython3",
   "version": "3.11.5"
  }
 },
 "nbformat": 4,
 "nbformat_minor": 2
}
